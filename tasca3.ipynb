{
 "cells": [
  {
   "cell_type": "markdown",
   "metadata": {},
   "source": [
    "- Exercici 1\n",
    "L'exercici consisteix a crear un programa que et classifiqui una variable numèrica en funció de l’escala Suspès/Aprovat/Notable/Excel·lent."
   ]
  },
  {
   "cell_type": "code",
   "execution_count": 1,
   "metadata": {},
   "outputs": [
    {
     "name": "stdout",
     "output_type": "stream",
     "text": [
      "Suspès\n",
      "Suspès\n",
      "Aprovat\n",
      "Notable\n",
      "Excelent\n"
     ]
    }
   ],
   "source": [
    "def examen(nota):\n",
    "    text = \"\"\n",
    "    if nota<5:\n",
    "        text = \"Suspès\"\n",
    "    elif nota>=5 and nota<7:\n",
    "        text = \"Aprovat\"\n",
    "    elif nota>= 7 and nota<9:\n",
    "        text = \"Notable\"\n",
    "    elif nota>= 9 and nota<=10:\n",
    "        text = \"Excelent\"\n",
    "    return text\n",
    "\n",
    "notes = [0, 4, 5, 7, 9]\n",
    "for nota in notes:\n",
    "    print(examen(nota))"
   ]
  },
  {
   "cell_type": "markdown",
   "metadata": {},
   "source": [
    "- Exercici 2\n",
    "Utilitzant el següent tutorial Programiz: Python Input, Output and Import crea un programa que et pregunti dos números. T’ha de mostrar un missatge dient si el primer és més gran, el segon és més gran o són iguals."
   ]
  },
  {
   "cell_type": "code",
   "execution_count": 3,
   "metadata": {},
   "outputs": [
    {
     "name": "stdout",
     "output_type": "stream",
     "text": [
      "Escriu un número: 50\n",
      "Escriu un altre: 3\n",
      "El primer número és més gran que el segon.\n"
     ]
    }
   ],
   "source": [
    "def comparacio(n1, n2):\n",
    "    resultat = \"\"\n",
    "    if n1 < n2:\n",
    "        resultat = \"El primer número és més petit que el segon.\"\n",
    "    elif n1 > n2:\n",
    "        resultat = \"El primer número és més gran que el segon.\"\n",
    "    else:\n",
    "        resultat = \"El primer número és igual al segon.\"\n",
    "    return resultat\n",
    "\n",
    "num1 = int(input(\"Escriu un número: \"))\n",
    "num2 = int(input(\"Escriu un altre: \"))\n",
    "print(comparacio(num1, num2))"
   ]
  },
  {
   "cell_type": "markdown",
   "metadata": {},
   "source": [
    "- Exercici 3\n",
    "Crea un programa que et pregunti el teu nom, i et demani un número. Si el número és 0, hauria de mostrar un missatge d’error. En cas contrari, hauria de mostrar el nom repetit tants cops com indiqui el número. Per exemple, “Joan Joan Joan”."
   ]
  },
  {
   "cell_type": "code",
   "execution_count": 7,
   "metadata": {},
   "outputs": [
    {
     "name": "stdout",
     "output_type": "stream",
     "text": [
      "Escriu el teu nom: Gabriel\n",
      "Quantes vegades vols que es repeteixi? 20\n",
      "Gabriel Gabriel Gabriel Gabriel Gabriel Gabriel Gabriel Gabriel Gabriel Gabriel Gabriel Gabriel Gabriel Gabriel Gabriel Gabriel Gabriel Gabriel Gabriel Gabriel \n"
     ]
    }
   ],
   "source": [
    "def noms(nom, num):\n",
    "    resultat = \"\"\n",
    "    if num == 0:\n",
    "        raise ValueError(\"Número no és vàlid.\")\n",
    "    else:\n",
    "        for i in range(num):\n",
    "            resultat += (nom + \" \")\n",
    "    return resultat\n",
    "\n",
    "nom = input(\"Escriu el teu nom: \")\n",
    "num = int(input(\"Quantes vegades vols que es repeteixi? \"))\n",
    "print(noms(nom, num))"
   ]
  },
  {
   "cell_type": "markdown",
   "metadata": {},
   "source": [
    "- Exercici 4\n",
    "Crea un programa que donada una llista qualsevol, et digui si es simètrica o no. Si ho és, que et digui quants elements té."
   ]
  },
  {
   "cell_type": "code",
   "execution_count": 17,
   "metadata": {},
   "outputs": [
    {
     "name": "stdout",
     "output_type": "stream",
     "text": [
      "Simètrica\n",
      "No és simètrica\n",
      "Simètrica\n"
     ]
    }
   ],
   "source": [
    "import random\n",
    "\n",
    "def simetrica(llista):\n",
    "    start = 0\n",
    "    result = None\n",
    "    while(llista[start] == llista[(start + 1)*-1]):\n",
    "        if start>=((len(llista)/2) - 1):\n",
    "            result = 1\n",
    "            break\n",
    "        start+= 1\n",
    "    \n",
    "    if result == 1:\n",
    "        print(\"Simètrica\")\n",
    "    else:\n",
    "        print(\"No és simètrica\")\n",
    "\n",
    "\n",
    "llist = [2, 3, 4, 3, 2]\n",
    "llist2 = [3, 4, 3, 2]\n",
    "llist3 = [0, 9, 9, 0]\n",
    "simetrica(llist)\n",
    "simetrica(llist2)\n",
    "simetrica(llist3)"
   ]
  },
  {
   "cell_type": "markdown",
   "metadata": {},
   "source": [
    "- Exercici 5\n",
    "Crea un programa que donada una llista, et digui quants números coincideixen amb la seva posició. Per exemple [3,4,2,0,2,3,6] el 2 i el 6 coincideixen."
   ]
  },
  {
   "cell_type": "code",
   "execution_count": 21,
   "metadata": {},
   "outputs": [
    {
     "name": "stdout",
     "output_type": "stream",
     "text": [
      "[0 1 -- 3 4 --]\n"
     ]
    }
   ],
   "source": [
    "import numpy as np\n",
    "import numpy.ma as ma\n",
    "\n",
    "def nums_coincideixen(llista):\n",
    "    coincideixen = []\n",
    "    for i in range(len(llista)):\n",
    "        if i == llista[i]:\n",
    "            coincideixen.append(True)\n",
    "        else:\n",
    "            coincideixen.append(False)\n",
    "    return coincideixen\n",
    "\n",
    "llista = [0, 1, 4, 3, 4, 9]\n",
    "llista_results = ma.array(llista, mask = ~(np.array(nums_coincideixen(llista))))\n",
    "print(llista_results)"
   ]
  }
 ],
 "metadata": {
  "kernelspec": {
   "display_name": "Python 3",
   "language": "python",
   "name": "python3"
  },
  "language_info": {
   "codemirror_mode": {
    "name": "ipython",
    "version": 3
   },
   "file_extension": ".py",
   "mimetype": "text/x-python",
   "name": "python",
   "nbconvert_exporter": "python",
   "pygments_lexer": "ipython3",
   "version": "3.8.5"
  }
 },
 "nbformat": 4,
 "nbformat_minor": 4
}
